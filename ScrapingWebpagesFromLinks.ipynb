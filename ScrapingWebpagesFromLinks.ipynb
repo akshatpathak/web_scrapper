{
 "cells": [
  {
   "cell_type": "code",
   "execution_count": 2,
   "metadata": {},
   "outputs": [],
   "source": [
    "import numpy as np\n",
    "import matplotlib.pyplot as plt\n",
    "import pandas as pd\n",
    "import requests\n",
    "import bs4\n",
    "from bs4 import BeautifulSoup"
   ]
  },
  {
   "cell_type": "code",
   "execution_count": 6,
   "metadata": {},
   "outputs": [],
   "source": [
    "url = 'https://www.imdb.com/chart/top'\n",
    "r = requests.get(url)\n"
   ]
  },
  {
   "cell_type": "code",
   "execution_count": 7,
   "metadata": {},
   "outputs": [
    {
     "data": {
      "text/plain": [
       "200"
      ]
     },
     "execution_count": 7,
     "metadata": {},
     "output_type": "execute_result"
    }
   ],
   "source": [
    "r.status_code"
   ]
  },
  {
   "cell_type": "code",
   "execution_count": 8,
   "metadata": {},
   "outputs": [],
   "source": [
    "soup = BeautifulSoup(r.text,'html.parser')"
   ]
  },
  {
   "cell_type": "code",
   "execution_count": 9,
   "metadata": {},
   "outputs": [],
   "source": [
    "TITLES = []\n",
    "URLS = []\n",
    "table_inf = soup.find_all('tbody', {'class':'lister-list'}) ## Does information get really transmitted or only pointers are set?\n",
    "doc = table_inf[0]\n",
    "rows = doc.find_all('tr')"
   ]
  },
  {
   "cell_type": "code",
   "execution_count": 10,
   "metadata": {},
   "outputs": [
    {
     "name": "stdout",
     "output_type": "stream",
     "text": [
      "250\n"
     ]
    }
   ],
   "source": [
    "count = 0\n",
    "for row in rows:\n",
    "    count += 1\n",
    "    title_column = row.find('td', {'class':'titleColumn'})\n",
    "    movie_title = title_column.a.text\n",
    "    movie_root_url = \"https://www.imdb.com\"\n",
    "    movie_rel_url = title_column.a[\"href\"]\n",
    "    movie_url = movie_root_url + movie_rel_url\n",
    "    TITLES.append(movie_title)\n",
    "    URLS.append(movie_url)\n",
    "    \n",
    "print(count)"
   ]
  },
  {
   "cell_type": "code",
   "execution_count": 96,
   "metadata": {},
   "outputs": [],
   "source": [
    "PLOT_SUMM =[]\n",
    "GENRE = []\n",
    "BO_COL = []"
   ]
  },
  {
   "cell_type": "code",
   "execution_count": 97,
   "metadata": {
    "scrolled": true
   },
   "outputs": [
    {
     "name": "stdout",
     "output_type": "stream",
     "text": [
      "250\n"
     ]
    }
   ],
   "source": [
    "count2 = 0\n",
    "for url2 in URLS:\n",
    "    count2 += 1\n",
    "    s = requests.get(url2)\n",
    "    soup2 = BeautifulSoup(s.text,'html.parser')\n",
    "    all_info = soup2.find('div',{'id':'content-2-wide'})\n",
    "    genre_text = all_info.find('span',{'itemprop':\"genre\"})\n",
    "    genre = genre_text.text\n",
    "    GENRE.append(genre)\n",
    "    plot_summary_text =all_info.find('span',{'itemprop':'description'})\n",
    "    plot_summary = plot_summary_text.text\n",
    "    PLOT_SUMM.append(plot_summary)\n",
    "    bo_col_titleDetails = all_info.find('div',{'id':'titleDetails'})\n",
    "    bo_col_textblock =  bo_col_titleDetails.find_all('div',{'class':'txt-block'})\n",
    "    bo_col = bo_col_textblock[7].text\n",
    "    bo_col = (bo_col.split(':')[-1]).split('\\n')[0]\n",
    "    bo_col = ','.join(bo_col.split(',')[:-1])\n",
    "    BO_COL.append(bo_col)\n",
    "    \n",
    "print(count2)\n",
    "    "
   ]
  },
  {
   "cell_type": "code",
   "execution_count": null,
   "metadata": {},
   "outputs": [],
   "source": []
  },
  {
   "cell_type": "code",
   "execution_count": 15,
   "metadata": {},
   "outputs": [
    {
     "name": "stdout",
     "output_type": "stream",
     "text": [
      "11\n"
     ]
    }
   ],
   "source": [
    "print(len(all_info))"
   ]
  },
  {
   "cell_type": "code",
   "execution_count": null,
   "metadata": {},
   "outputs": [],
   "source": []
  },
  {
   "cell_type": "code",
   "execution_count": 98,
   "metadata": {},
   "outputs": [
    {
     "name": "stdout",
     "output_type": "stream",
     "text": [
      "[' $727,326']\n",
      "250\n",
      "250\n",
      "250\n"
     ]
    }
   ],
   "source": [
    "print(BO_COL[:1]) ## Why did he take doc = table_inf[0]\n",
    "print(len(BO_COL))\n",
    "print(len(TITLES))\n",
    "print(len(PLOT_SUMM))"
   ]
  },
  {
   "cell_type": "code",
   "execution_count": 99,
   "metadata": {},
   "outputs": [],
   "source": [
    "empty_d = pd.DataFrame({'Title':TITLES,'Plot Summary':PLOT_SUMM,'Genre':GENRE,'Box-Office Collection':BO_COL,'URL':URLS})"
   ]
  },
  {
   "cell_type": "code",
   "execution_count": 100,
   "metadata": {},
   "outputs": [],
   "source": [
    "empty_d.to_csv('./imdb-2.csv',index = False)"
   ]
  },
  {
   "cell_type": "code",
   "execution_count": 101,
   "metadata": {},
   "outputs": [
    {
     "data": {
      "text/html": [
       "<div>\n",
       "<style scoped>\n",
       "    .dataframe tbody tr th:only-of-type {\n",
       "        vertical-align: middle;\n",
       "    }\n",
       "\n",
       "    .dataframe tbody tr th {\n",
       "        vertical-align: top;\n",
       "    }\n",
       "\n",
       "    .dataframe thead th {\n",
       "        text-align: right;\n",
       "    }\n",
       "</style>\n",
       "<table border=\"1\" class=\"dataframe\">\n",
       "  <thead>\n",
       "    <tr style=\"text-align: right;\">\n",
       "      <th></th>\n",
       "      <th>Title</th>\n",
       "      <th>Plot Summary</th>\n",
       "      <th>Genre</th>\n",
       "      <th>Box-Office Collection</th>\n",
       "      <th>URL</th>\n",
       "    </tr>\n",
       "  </thead>\n",
       "  <tbody>\n",
       "    <tr>\n",
       "      <th>0</th>\n",
       "      <td>The Shawshank Redemption</td>\n",
       "      <td>The Shawshank Redemption is a highly-acclaime...</td>\n",
       "      <td>Drama</td>\n",
       "      <td>$727,326</td>\n",
       "      <td>https://www.imdb.com/title/tt0111161/?pf_rd_m=...</td>\n",
       "    </tr>\n",
       "    <tr>\n",
       "      <th>1</th>\n",
       "      <td>The Godfather</td>\n",
       "      <td>When the aging head of a famous crime fami...</td>\n",
       "      <td>Crime</td>\n",
       "      <td>$302,393</td>\n",
       "      <td>https://www.imdb.com/title/tt0068646/?pf_rd_m=...</td>\n",
       "    </tr>\n",
       "    <tr>\n",
       "      <th>2</th>\n",
       "      <td>The Godfather: Part II</td>\n",
       "      <td>The continuing saga of the Corleone crime ...</td>\n",
       "      <td>Crime</td>\n",
       "      <td>$57,300</td>\n",
       "      <td>https://www.imdb.com/title/tt0071562/?pf_rd_m=...</td>\n",
       "    </tr>\n",
       "    <tr>\n",
       "      <th>3</th>\n",
       "      <td>The Dark Knight</td>\n",
       "      <td>Set within a year after the events of Batm...</td>\n",
       "      <td>Action</td>\n",
       "      <td>$158,411,483</td>\n",
       "      <td>https://www.imdb.com/title/tt0468569/?pf_rd_m=...</td>\n",
       "    </tr>\n",
       "    <tr>\n",
       "      <th>4</th>\n",
       "      <td>12 Angry Men</td>\n",
       "      <td>The defense and the prosecution have reste...</td>\n",
       "      <td>Crime</td>\n",
       "      <td>NaN</td>\n",
       "      <td>https://www.imdb.com/title/tt0050083/?pf_rd_m=...</td>\n",
       "    </tr>\n",
       "    <tr>\n",
       "      <th>5</th>\n",
       "      <td>Schindler's List</td>\n",
       "      <td>Oskar Schindler is a vainglorious and gree...</td>\n",
       "      <td>Biography</td>\n",
       "      <td>$656,636</td>\n",
       "      <td>https://www.imdb.com/title/tt0108052/?pf_rd_m=...</td>\n",
       "    </tr>\n",
       "    <tr>\n",
       "      <th>6</th>\n",
       "      <td>The Lord of the Rings: The Return of the King</td>\n",
       "      <td>The final confrontation between the forces...</td>\n",
       "      <td>Adventure</td>\n",
       "      <td>$72,629,713</td>\n",
       "      <td>https://www.imdb.com/title/tt0167260/?pf_rd_m=...</td>\n",
       "    </tr>\n",
       "    <tr>\n",
       "      <th>7</th>\n",
       "      <td>Pulp Fiction</td>\n",
       "      <td>Pulp Fiction is a movie starring John Travolt...</td>\n",
       "      <td>Crime</td>\n",
       "      <td>$9,311,882</td>\n",
       "      <td>https://www.imdb.com/title/tt0110912/?pf_rd_m=...</td>\n",
       "    </tr>\n",
       "    <tr>\n",
       "      <th>8</th>\n",
       "      <td>Il buono, il brutto, il cattivo</td>\n",
       "      <td>Blondie (The Good) is a professional gunsl...</td>\n",
       "      <td>Western</td>\n",
       "      <td>NaN</td>\n",
       "      <td>https://www.imdb.com/title/tt0060196/?pf_rd_m=...</td>\n",
       "    </tr>\n",
       "    <tr>\n",
       "      <th>9</th>\n",
       "      <td>Fight Club</td>\n",
       "      <td>A nameless first person narrator (Edward N...</td>\n",
       "      <td>Drama</td>\n",
       "      <td>$11,035,485</td>\n",
       "      <td>https://www.imdb.com/title/tt0137523/?pf_rd_m=...</td>\n",
       "    </tr>\n",
       "  </tbody>\n",
       "</table>\n",
       "</div>"
      ],
      "text/plain": [
       "                                           Title  \\\n",
       "0                       The Shawshank Redemption   \n",
       "1                                  The Godfather   \n",
       "2                         The Godfather: Part II   \n",
       "3                                The Dark Knight   \n",
       "4                                   12 Angry Men   \n",
       "5                               Schindler's List   \n",
       "6  The Lord of the Rings: The Return of the King   \n",
       "7                                   Pulp Fiction   \n",
       "8                Il buono, il brutto, il cattivo   \n",
       "9                                     Fight Club   \n",
       "\n",
       "                                        Plot Summary      Genre  \\\n",
       "0   The Shawshank Redemption is a highly-acclaime...      Drama   \n",
       "1      When the aging head of a famous crime fami...      Crime   \n",
       "2      The continuing saga of the Corleone crime ...      Crime   \n",
       "3      Set within a year after the events of Batm...     Action   \n",
       "4      The defense and the prosecution have reste...      Crime   \n",
       "5      Oskar Schindler is a vainglorious and gree...  Biography   \n",
       "6      The final confrontation between the forces...  Adventure   \n",
       "7   Pulp Fiction is a movie starring John Travolt...      Crime   \n",
       "8      Blondie (The Good) is a professional gunsl...    Western   \n",
       "9      A nameless first person narrator (Edward N...      Drama   \n",
       "\n",
       "  Box-Office Collection                                                URL  \n",
       "0              $727,326  https://www.imdb.com/title/tt0111161/?pf_rd_m=...  \n",
       "1              $302,393  https://www.imdb.com/title/tt0068646/?pf_rd_m=...  \n",
       "2               $57,300  https://www.imdb.com/title/tt0071562/?pf_rd_m=...  \n",
       "3          $158,411,483  https://www.imdb.com/title/tt0468569/?pf_rd_m=...  \n",
       "4                   NaN  https://www.imdb.com/title/tt0050083/?pf_rd_m=...  \n",
       "5              $656,636  https://www.imdb.com/title/tt0108052/?pf_rd_m=...  \n",
       "6           $72,629,713  https://www.imdb.com/title/tt0167260/?pf_rd_m=...  \n",
       "7            $9,311,882  https://www.imdb.com/title/tt0110912/?pf_rd_m=...  \n",
       "8                   NaN  https://www.imdb.com/title/tt0060196/?pf_rd_m=...  \n",
       "9           $11,035,485  https://www.imdb.com/title/tt0137523/?pf_rd_m=...  "
      ]
     },
     "execution_count": 101,
     "metadata": {},
     "output_type": "execute_result"
    }
   ],
   "source": [
    "new_df = pd.read_csv('./imdb-2.csv')\n",
    "new_df.head(n=10)"
   ]
  },
  {
   "cell_type": "code",
   "execution_count": 102,
   "metadata": {},
   "outputs": [
    {
     "data": {
      "text/html": [
       "<div>\n",
       "<style scoped>\n",
       "    .dataframe tbody tr th:only-of-type {\n",
       "        vertical-align: middle;\n",
       "    }\n",
       "\n",
       "    .dataframe tbody tr th {\n",
       "        vertical-align: top;\n",
       "    }\n",
       "\n",
       "    .dataframe thead th {\n",
       "        text-align: right;\n",
       "    }\n",
       "</style>\n",
       "<table border=\"1\" class=\"dataframe\">\n",
       "  <thead>\n",
       "    <tr style=\"text-align: right;\">\n",
       "      <th></th>\n",
       "      <th>Title</th>\n",
       "      <th>Plot Summary</th>\n",
       "      <th>Genre</th>\n",
       "      <th>Box-Office Collection</th>\n",
       "      <th>URL</th>\n",
       "    </tr>\n",
       "  </thead>\n",
       "  <tbody>\n",
       "    <tr>\n",
       "      <th>0</th>\n",
       "      <td>The Shawshank Redemption</td>\n",
       "      <td>The Shawshank Redemption is a highly-acclaime...</td>\n",
       "      <td>Drama</td>\n",
       "      <td>$727,326</td>\n",
       "      <td>https://www.imdb.com/title/tt0111161/?pf_rd_m=...</td>\n",
       "    </tr>\n",
       "    <tr>\n",
       "      <th>1</th>\n",
       "      <td>The Godfather</td>\n",
       "      <td>When the aging head of a famous crime fami...</td>\n",
       "      <td>Crime</td>\n",
       "      <td>$302,393</td>\n",
       "      <td>https://www.imdb.com/title/tt0068646/?pf_rd_m=...</td>\n",
       "    </tr>\n",
       "    <tr>\n",
       "      <th>2</th>\n",
       "      <td>The Godfather: Part II</td>\n",
       "      <td>The continuing saga of the Corleone crime ...</td>\n",
       "      <td>Crime</td>\n",
       "      <td>$57,300</td>\n",
       "      <td>https://www.imdb.com/title/tt0071562/?pf_rd_m=...</td>\n",
       "    </tr>\n",
       "    <tr>\n",
       "      <th>3</th>\n",
       "      <td>The Dark Knight</td>\n",
       "      <td>Set within a year after the events of Batm...</td>\n",
       "      <td>Action</td>\n",
       "      <td>$158,411,483</td>\n",
       "      <td>https://www.imdb.com/title/tt0468569/?pf_rd_m=...</td>\n",
       "    </tr>\n",
       "    <tr>\n",
       "      <th>4</th>\n",
       "      <td>12 Angry Men</td>\n",
       "      <td>The defense and the prosecution have reste...</td>\n",
       "      <td>Crime</td>\n",
       "      <td>NaN</td>\n",
       "      <td>https://www.imdb.com/title/tt0050083/?pf_rd_m=...</td>\n",
       "    </tr>\n",
       "    <tr>\n",
       "      <th>5</th>\n",
       "      <td>Schindler's List</td>\n",
       "      <td>Oskar Schindler is a vainglorious and gree...</td>\n",
       "      <td>Biography</td>\n",
       "      <td>$656,636</td>\n",
       "      <td>https://www.imdb.com/title/tt0108052/?pf_rd_m=...</td>\n",
       "    </tr>\n",
       "    <tr>\n",
       "      <th>6</th>\n",
       "      <td>The Lord of the Rings: The Return of the King</td>\n",
       "      <td>The final confrontation between the forces...</td>\n",
       "      <td>Adventure</td>\n",
       "      <td>$72,629,713</td>\n",
       "      <td>https://www.imdb.com/title/tt0167260/?pf_rd_m=...</td>\n",
       "    </tr>\n",
       "    <tr>\n",
       "      <th>7</th>\n",
       "      <td>Pulp Fiction</td>\n",
       "      <td>Pulp Fiction is a movie starring John Travolt...</td>\n",
       "      <td>Crime</td>\n",
       "      <td>$9,311,882</td>\n",
       "      <td>https://www.imdb.com/title/tt0110912/?pf_rd_m=...</td>\n",
       "    </tr>\n",
       "    <tr>\n",
       "      <th>8</th>\n",
       "      <td>Il buono, il brutto, il cattivo</td>\n",
       "      <td>Blondie (The Good) is a professional gunsl...</td>\n",
       "      <td>Western</td>\n",
       "      <td>NaN</td>\n",
       "      <td>https://www.imdb.com/title/tt0060196/?pf_rd_m=...</td>\n",
       "    </tr>\n",
       "    <tr>\n",
       "      <th>9</th>\n",
       "      <td>Fight Club</td>\n",
       "      <td>A nameless first person narrator (Edward N...</td>\n",
       "      <td>Drama</td>\n",
       "      <td>$11,035,485</td>\n",
       "      <td>https://www.imdb.com/title/tt0137523/?pf_rd_m=...</td>\n",
       "    </tr>\n",
       "  </tbody>\n",
       "</table>\n",
       "</div>"
      ],
      "text/plain": [
       "                                           Title  \\\n",
       "0                       The Shawshank Redemption   \n",
       "1                                  The Godfather   \n",
       "2                         The Godfather: Part II   \n",
       "3                                The Dark Knight   \n",
       "4                                   12 Angry Men   \n",
       "5                               Schindler's List   \n",
       "6  The Lord of the Rings: The Return of the King   \n",
       "7                                   Pulp Fiction   \n",
       "8                Il buono, il brutto, il cattivo   \n",
       "9                                     Fight Club   \n",
       "\n",
       "                                        Plot Summary      Genre  \\\n",
       "0   The Shawshank Redemption is a highly-acclaime...      Drama   \n",
       "1      When the aging head of a famous crime fami...      Crime   \n",
       "2      The continuing saga of the Corleone crime ...      Crime   \n",
       "3      Set within a year after the events of Batm...     Action   \n",
       "4      The defense and the prosecution have reste...      Crime   \n",
       "5      Oskar Schindler is a vainglorious and gree...  Biography   \n",
       "6      The final confrontation between the forces...  Adventure   \n",
       "7   Pulp Fiction is a movie starring John Travolt...      Crime   \n",
       "8      Blondie (The Good) is a professional gunsl...    Western   \n",
       "9      A nameless first person narrator (Edward N...      Drama   \n",
       "\n",
       "  Box-Office Collection                                                URL  \n",
       "0              $727,326  https://www.imdb.com/title/tt0111161/?pf_rd_m=...  \n",
       "1              $302,393  https://www.imdb.com/title/tt0068646/?pf_rd_m=...  \n",
       "2               $57,300  https://www.imdb.com/title/tt0071562/?pf_rd_m=...  \n",
       "3          $158,411,483  https://www.imdb.com/title/tt0468569/?pf_rd_m=...  \n",
       "4                   NaN  https://www.imdb.com/title/tt0050083/?pf_rd_m=...  \n",
       "5              $656,636  https://www.imdb.com/title/tt0108052/?pf_rd_m=...  \n",
       "6           $72,629,713  https://www.imdb.com/title/tt0167260/?pf_rd_m=...  \n",
       "7            $9,311,882  https://www.imdb.com/title/tt0110912/?pf_rd_m=...  \n",
       "8                   NaN  https://www.imdb.com/title/tt0060196/?pf_rd_m=...  \n",
       "9           $11,035,485  https://www.imdb.com/title/tt0137523/?pf_rd_m=...  "
      ]
     },
     "execution_count": 102,
     "metadata": {},
     "output_type": "execute_result"
    }
   ],
   "source": [
    "new_df.head(n=10)"
   ]
  },
  {
   "cell_type": "code",
   "execution_count": null,
   "metadata": {},
   "outputs": [],
   "source": []
  },
  {
   "cell_type": "code",
   "execution_count": null,
   "metadata": {},
   "outputs": [],
   "source": []
  }
 ],
 "metadata": {
  "kernelspec": {
   "display_name": "Python 3",
   "language": "python",
   "name": "python3"
  },
  "language_info": {
   "codemirror_mode": {
    "name": "ipython",
    "version": 3
   },
   "file_extension": ".py",
   "mimetype": "text/x-python",
   "name": "python",
   "nbconvert_exporter": "python",
   "pygments_lexer": "ipython3",
   "version": "3.7.0"
  }
 },
 "nbformat": 4,
 "nbformat_minor": 2
}
