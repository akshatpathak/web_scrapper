{
 "cells": [
  {
   "cell_type": "code",
   "execution_count": 1,
   "metadata": {},
   "outputs": [],
   "source": [
    "import numpy as np\n",
    "import matplotlib.pyplot as plt\n",
    "import pandas as pd\n",
    "import requests\n",
    "import bs4\n",
    "from bs4 import BeautifulSoup"
   ]
  },
  {
   "cell_type": "code",
   "execution_count": 2,
   "metadata": {},
   "outputs": [],
   "source": [
    "url = 'https://www.imdb.com/chart/top'\n",
    "r = requests.get(url)"
   ]
  },
  {
   "cell_type": "code",
   "execution_count": 3,
   "metadata": {},
   "outputs": [
    {
     "data": {
      "text/plain": [
       "200"
      ]
     },
     "execution_count": 3,
     "metadata": {},
     "output_type": "execute_result"
    }
   ],
   "source": [
    "r.status_code\n"
   ]
  },
  {
   "cell_type": "code",
   "execution_count": 4,
   "metadata": {},
   "outputs": [],
   "source": [
    "info = r.text\n",
    "soup = BeautifulSoup(info,'html.parser')\n",
    "TITLES = []\n",
    "YEARS = []\n",
    "RATINGS = []\n",
    "URLS = []\n",
    "ACTORS =  []\n",
    "DIRECTORS = []"
   ]
  },
  {
   "cell_type": "code",
   "execution_count": 6,
   "metadata": {},
   "outputs": [],
   "source": [
    "table_inf = soup.find_all('tbody', {'class':'lister-list'}) ## Does information get really transmitted or only pointers are set?\n",
    "doc = table_inf[0]\n",
    "rows = doc.find_all('tr')"
   ]
  },
  {
   "cell_type": "code",
   "execution_count": 7,
   "metadata": {},
   "outputs": [
    {
     "name": "stdout",
     "output_type": "stream",
     "text": [
      "<class 'str'>\n"
     ]
    }
   ],
   "source": [
    "test_row = rows[0]\n",
    "title_column = test_row.find('td', {'class': 'titleColumn'})\n",
    "print(type(title_column.a.text))"
   ]
  },
  {
   "cell_type": "markdown",
   "metadata": {},
   "source": [
    " Things required:\n",
    "\n",
    "    Title\n",
    "    Year\n",
    "    Rating\n",
    "    Director\n",
    "    Actors\n",
    "    URL\n",
    "\n"
   ]
  },
  {
   "cell_type": "code",
   "execution_count": 8,
   "metadata": {},
   "outputs": [
    {
     "name": "stdout",
     "output_type": "stream",
     "text": [
      "250\n"
     ]
    }
   ],
   "source": [
    "count = 0\n",
    "for row in rows:\n",
    "    count += 1\n",
    "    title_column = row.find('td', {'class':'titleColumn'})\n",
    "    rating_column = row.find('td', {'class': 'ratingColumn'})\n",
    "    movie_title = title_column.a.text\n",
    "    year = title_column.span.text.split('(')[-1].split(')')[0]\n",
    "    movie_rating = rating_column.strong.text\n",
    "    director = title_column.a[\"title\"].split(',')[0].split('(')[0]\n",
    "    actors = ','.join(title_column.a[\"title\"].split(',')[1:]).strip()##Strip can only be called on strings and not on lists\n",
    "    movie_root_url = \"https://www.imdb.com\"\n",
    "    movie_rel_url = title_column.a[\"href\"]\n",
    "    movie_url = movie_root_url + movie_rel_url\n",
    "    \n",
    "    TITLES.append(movie_title)\n",
    "    YEARS.append(year)\n",
    "    RATINGS.append(movie_rating)\n",
    "    DIRECTORS.append(director)\n",
    "    ACTORS.append(actors)\n",
    "    URLS.append(movie_url)  ##All data types to go into pandas data frame should be strings and not unicode\n",
    "    \n",
    "print(count)\n",
    "    "
   ]
  },
  {
   "cell_type": "code",
   "execution_count": 9,
   "metadata": {},
   "outputs": [],
   "source": [
    "empty_dataframe = pd.DataFrame({'TITLE':TITLES,'YEAR':YEARS,'RATING':RATINGS,'DIRECTOR':DIRECTORS,'ACTORS':ACTORS,'URL':URLS})"
   ]
  },
  {
   "cell_type": "code",
   "execution_count": null,
   "metadata": {},
   "outputs": [],
   "source": [
    "empty_dataframe.to_csv('./imdb.csv', index = False)\n",
    "movie_akshat = pd.read_csv('./imdb.csv')"
   ]
  }
 ],
 "metadata": {
  "kernelspec": {
   "display_name": "Python 3",
   "language": "python",
   "name": "python3"
  },
  "language_info": {
   "codemirror_mode": {
    "name": "ipython",
    "version": 3
   },
   "file_extension": ".py",
   "mimetype": "text/x-python",
   "name": "python",
   "nbconvert_exporter": "python",
   "pygments_lexer": "ipython3",
   "version": "3.7.0"
  }
 },
 "nbformat": 4,
 "nbformat_minor": 2
}
